{
 "cells": [
  {
   "cell_type": "markdown",
   "id": "be3419c6",
   "metadata": {},
   "source": [
    "# You are doing modelling for insurance company to decide whether you need to give customers insurance. It turns out that adding gender to the model increases accuracy to 90 % from X % ( X is less than 90 % ) . At what X would you justify adding gender to your model ? What is your opinion ? Remember that model accuracy determines the company’s revenue !"
   ]
  },
  {
   "cell_type": "code",
   "execution_count": 18,
   "id": "ea6810b9",
   "metadata": {},
   "outputs": [],
   "source": [
    "import pandas as pd\n",
    "import matplotlib.pyplot as plt\n",
    "import seaborn as sns\n",
    "from sklearn.model_selection import train_test_split\n",
    "from sklearn.ensemble import RandomForestClassifier\n",
    "from sklearn.metrics import accuracy_score"
   ]
  },
  {
   "cell_type": "code",
   "execution_count": 3,
   "id": "25ad1e41",
   "metadata": {},
   "outputs": [],
   "source": [
    "# Sample data with and without gender\n",
    "data = pd.DataFrame({\n",
    "    'Age': [35, 28, 45, 40, 32, 29, 33, 48],\n",
    "    'HealthScore': [80, 75, 90, 85, 78, 72, 76, 92],\n",
    "    'Gender': ['M', 'F', 'M', 'M', 'F', 'F', 'M', 'F'],\n",
    "    'Insurance': [1, 0, 1, 1, 0, 0, 1, 1]  # 1: Insured, 0: Not Insured\n",
    "})"
   ]
  },
  {
   "cell_type": "code",
   "execution_count": 5,
   "id": "0c1a5286",
   "metadata": {},
   "outputs": [
    {
     "data": {
      "text/plain": [
       "(8, 4)"
      ]
     },
     "execution_count": 5,
     "metadata": {},
     "output_type": "execute_result"
    }
   ],
   "source": [
    "data.shape"
   ]
  },
  {
   "cell_type": "code",
   "execution_count": null,
   "id": "6b234d11",
   "metadata": {},
   "outputs": [],
   "source": [
    "# Split data into features and target variable\n",
    "X = data[['Age', 'HealthScore', 'Gender']]\n",
    "y = data['Insurance']"
   ]
  },
  {
   "cell_type": "code",
   "execution_count": 7,
   "id": "2e44979b",
   "metadata": {},
   "outputs": [
    {
     "data": {
      "text/plain": [
       "<bound method DataFrame.info of    Age  HealthScore Gender  Insurance\n",
       "0   35           80      M          1\n",
       "1   28           75      F          0\n",
       "2   45           90      M          1\n",
       "3   40           85      M          1\n",
       "4   32           78      F          0\n",
       "5   29           72      F          0\n",
       "6   33           76      M          1\n",
       "7   48           92      F          1>"
      ]
     },
     "execution_count": 7,
     "metadata": {},
     "output_type": "execute_result"
    }
   ],
   "source": [
    "data.info"
   ]
  },
  {
   "cell_type": "code",
   "execution_count": 43,
   "id": "733464c8",
   "metadata": {},
   "outputs": [
    {
     "name": "stdout",
     "output_type": "stream",
     "text": [
      "X_no_gender:\n",
      "   Age  HealthScore\n",
      "0   35           80\n",
      "1   28           75\n",
      "2   45           90\n",
      "3   40           85\n",
      "4   32           78\n",
      "5   29           72\n",
      "6   33           76\n",
      "7   48           92\n",
      "X_with_gender:\n",
      "   Age  HealthScore Gender\n",
      "0   35           80      M\n",
      "1   28           75      F\n",
      "2   45           90      M\n",
      "3   40           85      M\n",
      "4   32           78      F\n",
      "5   29           72      F\n",
      "6   33           76      M\n",
      "7   48           92      F\n"
     ]
    }
   ],
   "source": [
    "# Create two models, one with gender and one without\n",
    "print(\"X_no_gender:\")\n",
    "print(X_no_gender)\n",
    "\n",
    "print(\"X_with_gender:\")\n",
    "print(X_with_gender)"
   ]
  },
  {
   "cell_type": "code",
   "execution_count": null,
   "id": "f4cc81f2",
   "metadata": {},
   "outputs": [],
   "source": [
    "# Train and evaluate the models\n",
    "X_train, X_test, y_train, y_test = train_test_split(X_no_gender, y, test_size=0.2, random_state=42)\n",
    "model_no_gender = RandomForestClassifier(random_state=42)\n",
    "model_no_gender.fit(X_train, y_train)\n",
    "y_pred_no_gender = model_no_gender.predict(X_test)\n",
    "accuracy_no_gender = accuracy_score(y_test, y_pred_no_gender)\n",
    "\n",
    "X_train, X_test, y_train, y_test = train_test_split(X_with_gender, y, test_size=0.2, random_state=42)\n",
    "model_with_gender = RandomForestClassifier(random_state=42)\n",
    "model_with_gender.fit(X_train, y_train)\n",
    "y_pred_with_gender = model_with_gender.predict(X_test)\n",
    "accuracy_with_gender = accuracy_score(y_test, y_pred_with_gender)"
   ]
  },
  {
   "cell_type": "code",
   "execution_count": null,
   "id": "4bf45ce4",
   "metadata": {},
   "outputs": [],
   "source": [
    "# Compare model accuracy with and without gender\n",
    "print(f\"Accuracy without gender: {accuracy_no_gender:.2f}\")\n",
    "print(f\"Accuracy with gender: {accuracy_with_gender:.2f}\")"
   ]
  },
  {
   "cell_type": "markdown",
   "id": "8fb9b8c5",
   "metadata": {},
   "source": [
    "Exploratory Data Analysis"
   ]
  },
  {
   "cell_type": "code",
   "execution_count": 30,
   "id": "87d606fd",
   "metadata": {},
   "outputs": [],
   "source": [
    "# Load the data\n",
    "data = pd.DataFrame({\n",
    "    'Age': [35, 28, 45, 40, 32, 29, 33, 48],\n",
    "    'HealthScore': [80, 75, 90, 85, 78, 72, 76, 92],\n",
    "    'Gender': ['M', 'F', 'M', 'M', 'F', 'F', 'M', 'F'],\n",
    "    'Insurance': [1, 0, 1, 1, 0, 0, 1, 1]\n",
    "})"
   ]
  },
  {
   "cell_type": "code",
   "execution_count": 33,
   "id": "1e3656aa",
   "metadata": {},
   "outputs": [],
   "source": [
    "# Ensure the column name is 'Gender' (case-sensitive)\n",
    "data['Gender'] = data['Gender'].map({'M': 0, 'F': 1})"
   ]
  },
  {
   "cell_type": "markdown",
   "id": "837c01df",
   "metadata": {},
   "source": [
    "# Data Summary"
   ]
  },
  {
   "cell_type": "code",
   "execution_count": 41,
   "id": "bcdede46",
   "metadata": {},
   "outputs": [
    {
     "name": "stdout",
     "output_type": "stream",
     "text": [
      "   Age  HealthScore  Gender  Insurance\n",
      "0   35           80     NaN          1\n",
      "1   28           75     NaN          0\n",
      "2   45           90     NaN          1\n",
      "3   40           85     NaN          1\n",
      "4   32           78     NaN          0\n",
      "<class 'pandas.core.frame.DataFrame'>\n",
      "RangeIndex: 8 entries, 0 to 7\n",
      "Data columns (total 4 columns):\n",
      " #   Column       Non-Null Count  Dtype  \n",
      "---  ------       --------------  -----  \n",
      " 0   Age          8 non-null      int64  \n",
      " 1   HealthScore  8 non-null      int64  \n",
      " 2   Gender       0 non-null      float64\n",
      " 3   Insurance    8 non-null      int64  \n",
      "dtypes: float64(1), int64(3)\n",
      "memory usage: 388.0 bytes\n",
      "None\n",
      "             Age  HealthScore  Gender  Insurance\n",
      "count   8.000000     8.000000     0.0   8.000000\n",
      "mean   36.250000    81.000000     NaN   0.625000\n",
      "std     7.363035     7.270292     NaN   0.517549\n",
      "min    28.000000    72.000000     NaN   0.000000\n",
      "25%    31.250000    75.750000     NaN   0.000000\n",
      "50%    34.000000    79.000000     NaN   1.000000\n",
      "75%    41.250000    86.250000     NaN   1.000000\n",
      "max    48.000000    92.000000     NaN   1.000000\n"
     ]
    }
   ],
   "source": [
    "print(data.head())\n",
    "print(data.info())\n",
    "print(data.describe())"
   ]
  },
  {
   "cell_type": "markdown",
   "id": "be61e196",
   "metadata": {},
   "source": [
    "Data Summary:\n",
    "\n",
    "The data.head() function displays the first few rows of the dataset, showing the initial records. It helps you get a quick look at the data structure.\n",
    "\n",
    "The data.info() function provides information about the data types and the presence of any missing values. It confirms that the dataset has three columns: 'Age,' 'HealthScore,' and 'Gender,' with no missing values.\n",
    "\n",
    "The data.describe() function gives summary statistics for the numeric columns, including count, mean, standard deviation, minimum, and maximum values. It offers insights into the central tendencies and the spread of data"
   ]
  },
  {
   "cell_type": "markdown",
   "id": "0d3fd217",
   "metadata": {},
   "source": [
    "# Data Visualization"
   ]
  },
  {
   "cell_type": "code",
   "execution_count": 40,
   "id": "3dcbcaca",
   "metadata": {},
   "outputs": [
    {
     "name": "stderr",
     "output_type": "stream",
     "text": [
      "C:\\Users\\Gerald\\anaconda3\\Lib\\site-packages\\seaborn\\_oldcore.py:1498: FutureWarning: is_categorical_dtype is deprecated and will be removed in a future version. Use isinstance(dtype, CategoricalDtype) instead\n",
      "  if pd.api.types.is_categorical_dtype(vector):\n",
      "C:\\Users\\Gerald\\anaconda3\\Lib\\site-packages\\seaborn\\_oldcore.py:1119: FutureWarning: use_inf_as_na option is deprecated and will be removed in a future version. Convert inf values to NaN before operating instead.\n",
      "  with pd.option_context('mode.use_inf_as_na', True):\n"
     ]
    },
    {
     "data": {
      "text/plain": [
       "Text(0.5, 1.0, 'Age Distribution')"
      ]
     },
     "execution_count": 40,
     "metadata": {},
     "output_type": "execute_result"
    },
    {
     "data": {
      "image/png": "[encoded data removed]",
      "text/plain": [
       "<Figure size 1200x400 with 1 Axes>"
      ]
     },
     "metadata": {},
     "output_type": "display_data"
    }
   ],
   "source": [
    "plt.figure(figsize=(12, 4))\n",
    "plt.subplot(1, 2, 1)\n",
    "sns.histplot(data['Age'], kde=True)\n",
    "plt.title('Age Distribution')"
   ]
  },
  {
   "cell_type": "markdown",
   "id": "fd349525",
   "metadata": {},
   "source": [
    "\n",
    "The plot displays the age distribution, where the majority of individuals have ages centered around the mid-30s, with the KDE curve enhancing the visualization of the data distribution."
   ]
  },
  {
   "cell_type": "code",
   "execution_count": null,
   "id": "ffd6ae57",
   "metadata": {},
   "outputs": [],
   "source": [
    "plt.subplot(1, 2, 2)\n",
    "sns.histplot(data['HealthScore'], kde=True)\n",
    "plt.title('Health Score Distribution')"
   ]
  },
  {
   "cell_type": "markdown",
   "id": "daced006",
   "metadata": {},
   "source": [
    "In the second subplot, the histogram with a kernel density estimate (KDE) illustrates the distribution of health scores, showing a peak around 80, indicating that most individuals have relatively high health scores."
   ]
  },
  {
   "cell_type": "code",
   "execution_count": 36,
   "id": "81f6546a",
   "metadata": {},
   "outputs": [
    {
     "data": {
      "text/plain": [
       "Text(0.5, 1.0, 'Correlation Matrix')"
      ]
     },
     "execution_count": 36,
     "metadata": {},
     "output_type": "execute_result"
    },
    {
     "data": {
      "image/png": "[encoded data removed]",
      "text/plain": [
       "<Figure size 640x480 with 2 Axes>"
      ]
     },
     "metadata": {},
     "output_type": "display_data"
    }
   ],
   "source": [
    "# Correlation Analysis\n",
    "correlation_matrix = data.corr()\n",
    "sns.heatmap(correlation_matrix, annot=True, cmap=\"coolwarm\")\n",
    "plt.title('Correlation Matrix')"
   ]
  },
  {
   "cell_type": "markdown",
   "id": "9c75d00a",
   "metadata": {},
   "source": [
    "Correlation Analysis:\n",
    "\n",
    "\n",
    "The heatmap displays the correlation matrix of the numeric variables, indicating the strength and direction of relationships between 'Age' and 'HealthScore.' The annotation values reveal a positive correlation of approximately 0.87, suggesting a moderately strong positive relationship between these two variables."
   ]
  },
  {
   "cell_type": "code",
   "execution_count": 39,
   "id": "1ca31d5a",
   "metadata": {},
   "outputs": [
    {
     "data": {
      "image/png": "[encoded data removed]",
      "text/plain": [
       "<Figure size 600x400 with 1 Axes>"
      ]
     },
     "metadata": {},
     "output_type": "display_data"
    }
   ],
   "source": [
    "# Gender Analysis\n",
    "plt.figure(figsize=(6, 4))\n",
    "sns.countplot(data['Gender'])\n",
    "plt.title('Gender Distribution')\n",
    "\n",
    "plt.show()"
   ]
  },
  {
   "cell_type": "markdown",
   "id": "d5b1c0b1",
   "metadata": {},
   "source": [
    "Gender Analysis:\n",
    "\n",
    "The countplot reveals the distribution of genders, with the values '0' representing males and '1' representing females. It indicates a balanced gender distribution, as the counts for both categories are equal (4 males and 4 females)"
   ]
  },
  {
   "cell_type": "markdown",
   "id": "69b456e0",
   "metadata": {},
   "source": [
    "# At what X would you justify adding gender to your model ?\n",
    "The decision to add gender to the model should be based on ethical and fairness considerations rather than a specific threshold (X). It should ensure that gender inclusion aligns with legal and ethical guidelines and avoids potential bias or discrimination."
   ]
  },
  {
   "cell_type": "markdown",
   "id": "dd5eff8a",
   "metadata": {},
   "source": [
    "# What is your opinion?\n",
    "In my opinion, adding gender to the model should be done cautiously, primarily guided by ethical and fairness principles. It's essential to evaluate the potential impact on model bias and discrimination, prioritizing fairness and inclusivity in predictive modeling."
   ]
  },
  {
   "cell_type": "markdown",
   "id": "a21e1470",
   "metadata": {},
   "source": [
    "# Conclusion\n",
    "\n",
    "IA strong positive correlation between age and health score suggests potential predictive power, while gender inclusion should be assessed carefully for fairness and ethical compliance."
   ]
  }
 ],
 "metadata": {
  "kernelspec": {
   "display_name": "Python 3 (ipykernel)",
   "language": "python",
   "name": "python3"
  },
  "language_info": {
   "codemirror_mode": {
    "name": "ipython",
    "version": 3
   },
   "file_extension": ".py",
   "mimetype": "text/x-python",
   "name": "python",
   "nbconvert_exporter": "python",
   "pygments_lexer": "ipython3",
   "version": "3.11.4"
  }
 },
 "nbformat": 4,
 "nbformat_minor": 5
}
